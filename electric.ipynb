{
 "cells": [
  {
   "cell_type": "code",
   "execution_count": 1,
   "metadata": {},
   "outputs": [],
   "source": [
    "from pymongo import MongoClient\n",
    "import pandas as pd\n",
    "from pprint import pprint\n"
   ]
  },
  {
   "cell_type": "code",
   "execution_count": 2,
   "metadata": {},
   "outputs": [],
   "source": [
    "# Create an instance of MongoClient\n",
    "mongo = MongoClient(port=27017)\n"
   ]
  },
  {
   "cell_type": "code",
   "execution_count": 3,
   "metadata": {},
   "outputs": [
    {
     "name": "stdout",
     "output_type": "stream",
     "text": [
      "['EVP_db', 'admin', 'autosaurus', 'classDB', 'config', 'epa', 'fruitsDB', 'local', 'met', 'travel_db', 'uk_food']\n"
     ]
    }
   ],
   "source": [
    "# confirm that our new database was created\n",
    "print(mongo.list_database_names())"
   ]
  },
  {
   "cell_type": "code",
   "execution_count": 4,
   "metadata": {},
   "outputs": [],
   "source": [
    "# assign the database to a variable name\n",
    "db=mongo['EVP_db']"
   ]
  },
  {
   "cell_type": "code",
   "execution_count": 5,
   "metadata": {},
   "outputs": [
    {
     "name": "stdout",
     "output_type": "stream",
     "text": [
      "['Electric_vehicle', 'alt_fuel_stations']\n"
     ]
    }
   ],
   "source": [
    "# review the collections in our new database\n",
    "print(db.list_collection_names())"
   ]
  },
  {
   "cell_type": "code",
   "execution_count": 6,
   "metadata": {},
   "outputs": [
    {
     "name": "stdout",
     "output_type": "stream",
     "text": [
      "{'_id': ObjectId('67d8bfaa45efe42865acf542'), 'VIN (1-10)': '2T3YL4DV0E', 'County': 'King', 'City': 'Bellevue', 'State': 'WA', 'Postal Code': 98005, 'Model Year': 2014, 'Make': 'TOYOTA', 'Model': 'RAV4', 'Electric Vehicle Type': 'Battery Electric Vehicle (BEV)', 'Clean Alternative Fuel Vehicle (CAFV) Eligibility': 'Clean Alternative Fuel Vehicle Eligible', 'Electric Range': 103, 'Base MSRP': 0, 'Legislative District': 41, 'DOL Vehicle ID': 186450183, 'Vehicle Location': 'POINT (-122.1621 47.64441)', 'Electric Utility': 'PUGET SOUND ENERGY INC||CITY OF TACOMA - (WA)', '2020 Census Tract': 53033023604}\n",
      "{'_id': ObjectId('67d8bfaa45efe42865acf542'), 'VIN (1-10)': '2T3YL4DV0E', 'County': 'King', 'City': 'Bellevue', 'State': 'WA', 'Postal Code': 98005, 'Model Year': 2014, 'Make': 'TOYOTA', 'Model': 'RAV4', 'Electric Vehicle Type': 'Battery Electric Vehicle (BEV)', 'Clean Alternative Fuel Vehicle (CAFV) Eligibility': 'Clean Alternative Fuel Vehicle Eligible', 'Electric Range': 103, 'Base MSRP': 0, 'Legislative District': 41, 'DOL Vehicle ID': 186450183, 'Vehicle Location': 'POINT (-122.1621 47.64441)', 'Electric Utility': 'PUGET SOUND ENERGY INC||CITY OF TACOMA - (WA)', '2020 Census Tract': 53033023604}\n"
     ]
    }
   ],
   "source": [
    "# review a document in the Electric_vehicle and alt_fuel_station collection\n",
    "print(db.Electric_vehicle.find_one())\n",
    "print(db.Electric_vehicle.find_one())"
   ]
  },
  {
   "cell_type": "code",
   "execution_count": 7,
   "metadata": {},
   "outputs": [],
   "source": [
    "# assign the collection to a variable\n",
    "EV = db['Electric_vehicle']\n",
    "FS=db['alt_fuel_stations']"
   ]
  },
  {
   "cell_type": "code",
   "execution_count": 8,
   "metadata": {},
   "outputs": [],
   "source": [
    "# Filter results by makers TOYOTA\n",
    "query={\"Make\":\"TOYOTA\"}\n",
    "results =EV.find(query)\n",
    "# for result in results:\n",
    "#     print(result)"
   ]
  },
  {
   "cell_type": "code",
   "execution_count": 9,
   "metadata": {},
   "outputs": [
    {
     "name": "stdout",
     "output_type": "stream",
     "text": [
      "Number of documents in results: 9265\n"
     ]
    }
   ],
   "source": [
    "# Filter results by NUMBERS OF  makers TOYOTA\n",
    "query={\"Make\":\"TOYOTA\"}\n",
    "# PRINT THE NUMBER OF RESULTS\n",
    "print(\"Number of documents in results:\",EV.count_documents(query))"
   ]
  },
  {
   "cell_type": "code",
   "execution_count": 10,
   "metadata": {},
   "outputs": [],
   "source": [
    "# Filter results by makers BMW\n",
    "query={\"Make\":\"BMW\"}\n",
    "results =EV.find()\n",
    "# for result in results:\n",
    "#     print(result)"
   ]
  },
  {
   "cell_type": "code",
   "execution_count": 11,
   "metadata": {},
   "outputs": [],
   "source": [
    "\n",
    "# Aggregation query to count vehicles by make\n",
    "pipeline = [\n",
    "    {\"$group\": {\"_id\": \"$Make\", \"count\": {\"$sum\": 1}}}  # Group by Make and count\n",
    "]\n",
    "\n",
    "# Execute the aggregation\n",
    "results = EV.aggregate(pipeline)\n",
    "\n",
    "# Print the results (make and count of vehicles)\n",
    "# for result in results:\n",
    "#     print(f\"Make: {result['_id']}, Number of vehicles: {result['count']}\")"
   ]
  },
  {
   "cell_type": "code",
   "execution_count": 12,
   "metadata": {},
   "outputs": [],
   "source": [
    "\n",
    "# Aggregation query to count vehicles by make\n",
    "pipeline = [\n",
    "    {\"$group\": {\"_id\": \"$City\", \"count\": {\"$sum\": 1}}}  # Group by city and count\n",
    "]\n",
    "\n",
    "# Execute the aggregation\n",
    "results = EV.aggregate(pipeline)\n",
    "\n",
    "# Print the results (make and count of vehicles)\n",
    "# for result in results:\n",
    "#     print(f\"City: {result['_id']}, Number of vehicles: {result['count']}\")"
   ]
  },
  {
   "cell_type": "code",
   "execution_count": 13,
   "metadata": {},
   "outputs": [],
   "source": [
    "\n",
    "# Aggregation query to count vehicles by make\n",
    "pipeline = [\n",
    "    {\"$group\": {\"_id\": \"$County\", \"count\": {\"$sum\": 1}}}  # Group by Make and count\n",
    "]\n",
    "\n",
    "# Execute the aggregation\n",
    "results = EV.aggregate(pipeline)\n",
    "\n",
    "# Print the results (make and count of vehicles)\n",
    "# for result in results:\n",
    "#     print(f\"County: {result['_id']}, Number of vehicles: {result['count']}\")"
   ]
  },
  {
   "cell_type": "code",
   "execution_count": 14,
   "metadata": {},
   "outputs": [],
   "source": [
    "# Aggregation query to count vehicles by model year\n",
    "pipeline = [\n",
    "    {\"$group\": {\"_id\": \"$Model Year\", \"count\": {\"$sum\": 1}}},  # Group by Year and count\n",
    "    {\"$sort\": {\"_id\": 1}}\n",
    "]\n",
    "\n",
    "# Execute the aggregation\n",
    "results = EV.aggregate(pipeline)\n",
    "\n",
    "# Print the results (model year and count of vehicles)\n",
    "# for result in results:\n",
    "#     print(f\"Model Year: {result['_id']}, Number of vehicles: {result['count']}\")\n"
   ]
  },
  {
   "cell_type": "code",
   "execution_count": 15,
   "metadata": {},
   "outputs": [
    {
     "name": "stdout",
     "output_type": "stream",
     "text": [
      "     County      City  Model Year    Make       Model\n",
      "0      King  Bellevue        2014  TOYOTA        RAV4\n",
      "1      King   Bothell        2019   TESLA     MODEL 3\n",
      "2  Thurston   Olympia        2025     BMW          X5\n",
      "3  Thurston   Olympia        2024  TOYOTA  RAV4 PRIME\n",
      "4    Yakima     Selah        2021   TESLA     MODEL Y\n"
     ]
    }
   ],
   "source": [
    "# Access the database\n",
    "db = mongo[\"EVP_db\"]  # Ensure this is the correct database name\n",
    "\n",
    "# Access the collection\n",
    "EV = db[\"Electric_vehicle\"]  # Ensure this collection exists\n",
    "\n",
    "# Query to retrieve specific fields (City, County, Model Year, Make, Model, Electric Range)\n",
    "query = {}  # Empty query to fetch all documents, can be customized if needed\n",
    "fields = {\"City\": 1, \"County\": 1, \"Model Year\": 1, \"Make\": 1, \"Model\": 1, \"Electric_Range\": 1, \"_id\": 0}  # Exclude _id\n",
    "\n",
    "# Retrieve the documents with selected fields\n",
    "data = list(EV.find(query, fields))\n",
    "\n",
    "# Convert the list of dictionaries into a Pandas DataFrame\n",
    "df = pd.DataFrame(data)\n",
    "\n",
    "# Print the DataFrame\n",
    "print(df.head())"
   ]
  },
  {
   "cell_type": "code",
   "execution_count": 16,
   "metadata": {},
   "outputs": [],
   "source": [
    "# Filter results by STATE TEXAS\n",
    "query={\"State\":\"TX\"}\n",
    "results =FS.find(query)\n",
    "# for result in results:\n",
    "#     print(result)"
   ]
  },
  {
   "cell_type": "code",
   "execution_count": 17,
   "metadata": {},
   "outputs": [
    {
     "name": "stdout",
     "output_type": "stream",
     "text": [
      "Number of documents in results: 4137\n"
     ]
    }
   ],
   "source": [
    "# Filter results by NUMBER OF FUEL STATIONS IN STATE TEXAS\n",
    "query={\"State\":\"TX\"}\n",
    "# PRINT THE NUMBER OF RESULTS\n",
    "print(\"Number of documents in results:\",FS.count_documents(query))"
   ]
  },
  {
   "cell_type": "code",
   "execution_count": 18,
   "metadata": {},
   "outputs": [],
   "source": [
    "# Aggregation query to count fuel stations by state\n",
    "pipeline = [\n",
    "    {\"$group\": {\"_id\": \"$State\", \"count\": {\"$sum\": 1}}}  # Group by State and count\n",
    "]\n",
    "\n",
    "# Execute the aggregation\n",
    "results = FS.aggregate(pipeline)\n",
    "\n",
    "# Print the results (state and count of fuel stations)\n",
    "# for result in results:\n",
    "#     print(f\"State: {result['_id']}, Number of fuel stations: {result['count']}\")"
   ]
  },
  {
   "cell_type": "code",
   "execution_count": 19,
   "metadata": {},
   "outputs": [
    {
     "name": "stdout",
     "output_type": "stream",
     "text": [
      "          City State\n",
      "0  Los Angeles    CA\n",
      "1     La Jolla    CA\n",
      "2    Sepulveda    CA\n",
      "3    Riverside    CA\n",
      "4     Pasadena    CA\n"
     ]
    }
   ],
   "source": [
    "# Access the database\n",
    "db = mongo[\"EVP_db\"]  # Ensure this is the correct database name\n",
    "\n",
    "# Access the collection\n",
    "EV = db[\"alt_fuel_stations\"]  # Ensure this collection exists\n",
    "\n",
    "# Query to get only the 'City' and 'State' fields\n",
    "query = {}  # You can apply filters if needed\n",
    "projection = {\"City\": 1, \"State\": 1, \"_id\": 0}  # 1 to include, 0 to exclude _id\n",
    "\n",
    "# Retrieve the documents with only 'City' and 'State'\n",
    "data = list(EV.find(query, projection).limit(10))\n",
    "\n",
    "# Convert the list of dictionaries into a Pandas DataFrame\n",
    "df = pd.DataFrame(data)\n",
    "\n",
    "# Print the DataFrame\n",
    "print(df.head())"
   ]
  }
 ],
 "metadata": {
  "kernelspec": {
   "display_name": "base",
   "language": "python",
   "name": "python3"
  },
  "language_info": {
   "codemirror_mode": {
    "name": "ipython",
    "version": 3
   },
   "file_extension": ".py",
   "mimetype": "text/x-python",
   "name": "python",
   "nbconvert_exporter": "python",
   "pygments_lexer": "ipython3",
   "version": "3.12.3"
  }
 },
 "nbformat": 4,
 "nbformat_minor": 2
}
